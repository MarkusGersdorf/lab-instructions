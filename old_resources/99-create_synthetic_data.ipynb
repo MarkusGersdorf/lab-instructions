{
 "cells": [
  {
   "cell_type": "markdown",
   "id": "39dea041-7916-4116-bfa0-8d81be8abbb8",
   "metadata": {},
   "source": [
    "# Create synthetic data from wine dataset"
   ]
  },
  {
   "cell_type": "code",
   "execution_count": 16,
   "id": "8d006ba8-9a4d-43ee-bc6f-a358618eac0b",
   "metadata": {
    "tags": []
   },
   "outputs": [
    {
     "name": "stdout",
     "output_type": "stream",
     "text": [
      "Requirement already satisfied: s3fs in /opt/app-root/lib/python3.9/site-packages (2024.6.0)\n",
      "Requirement already satisfied: aiohttp!=4.0.0a0,!=4.0.0a1 in /opt/app-root/lib/python3.9/site-packages (from s3fs) (3.9.5)\n",
      "Requirement already satisfied: fsspec==2024.6.0.* in /opt/app-root/lib/python3.9/site-packages (from s3fs) (2024.6.0)\n",
      "Requirement already satisfied: aiobotocore<3.0.0,>=2.5.4 in /opt/app-root/lib/python3.9/site-packages (from s3fs) (2.13.0)\n",
      "Requirement already satisfied: botocore<1.34.107,>=1.34.70 in /opt/app-root/lib/python3.9/site-packages (from aiobotocore<3.0.0,>=2.5.4->s3fs) (1.34.89)\n",
      "Requirement already satisfied: wrapt<2.0.0,>=1.10.10 in /opt/app-root/lib/python3.9/site-packages (from aiobotocore<3.0.0,>=2.5.4->s3fs) (1.16.0)\n",
      "Requirement already satisfied: aioitertools<1.0.0,>=0.5.1 in /opt/app-root/lib/python3.9/site-packages (from aiobotocore<3.0.0,>=2.5.4->s3fs) (0.11.0)\n",
      "Requirement already satisfied: aiosignal>=1.1.2 in /opt/app-root/lib/python3.9/site-packages (from aiohttp!=4.0.0a0,!=4.0.0a1->s3fs) (1.3.1)\n",
      "Requirement already satisfied: frozenlist>=1.1.1 in /opt/app-root/lib/python3.9/site-packages (from aiohttp!=4.0.0a0,!=4.0.0a1->s3fs) (1.4.1)\n",
      "Requirement already satisfied: yarl<2.0,>=1.0 in /opt/app-root/lib/python3.9/site-packages (from aiohttp!=4.0.0a0,!=4.0.0a1->s3fs) (1.9.4)\n",
      "Requirement already satisfied: attrs>=17.3.0 in /opt/app-root/lib/python3.9/site-packages (from aiohttp!=4.0.0a0,!=4.0.0a1->s3fs) (23.2.0)\n",
      "Requirement already satisfied: async-timeout<5.0,>=4.0 in /opt/app-root/lib/python3.9/site-packages (from aiohttp!=4.0.0a0,!=4.0.0a1->s3fs) (4.0.3)\n",
      "Requirement already satisfied: multidict<7.0,>=4.5 in /opt/app-root/lib/python3.9/site-packages (from aiohttp!=4.0.0a0,!=4.0.0a1->s3fs) (6.0.5)\n",
      "Requirement already satisfied: typing_extensions>=4.0 in /opt/app-root/lib/python3.9/site-packages (from aioitertools<1.0.0,>=0.5.1->aiobotocore<3.0.0,>=2.5.4->s3fs) (4.11.0)\n",
      "Requirement already satisfied: urllib3<1.27,>=1.25.4 in /opt/app-root/lib/python3.9/site-packages (from botocore<1.34.107,>=1.34.70->aiobotocore<3.0.0,>=2.5.4->s3fs) (1.26.18)\n",
      "Requirement already satisfied: python-dateutil<3.0.0,>=2.1 in /opt/app-root/lib/python3.9/site-packages (from botocore<1.34.107,>=1.34.70->aiobotocore<3.0.0,>=2.5.4->s3fs) (2.9.0.post0)\n",
      "Requirement already satisfied: jmespath<2.0.0,>=0.7.1 in /opt/app-root/lib/python3.9/site-packages (from botocore<1.34.107,>=1.34.70->aiobotocore<3.0.0,>=2.5.4->s3fs) (1.0.1)\n",
      "Requirement already satisfied: idna>=2.0 in /opt/app-root/lib/python3.9/site-packages (from yarl<2.0,>=1.0->aiohttp!=4.0.0a0,!=4.0.0a1->s3fs) (3.7)\n",
      "Requirement already satisfied: six>=1.5 in /opt/app-root/lib/python3.9/site-packages (from python-dateutil<3.0.0,>=2.1->botocore<1.34.107,>=1.34.70->aiobotocore<3.0.0,>=2.5.4->s3fs) (1.16.0)\n",
      "\n",
      "\u001b[1m[\u001b[0m\u001b[34;49mnotice\u001b[0m\u001b[1;39;49m]\u001b[0m\u001b[39;49m A new release of pip available: \u001b[0m\u001b[31;49m22.2.2\u001b[0m\u001b[39;49m -> \u001b[0m\u001b[32;49m24.1\u001b[0m\n",
      "\u001b[1m[\u001b[0m\u001b[34;49mnotice\u001b[0m\u001b[1;39;49m]\u001b[0m\u001b[39;49m To update, run: \u001b[0m\u001b[32;49mpip install --upgrade pip\u001b[0m\n",
      "Requirement already satisfied: seaborn in /opt/app-root/lib/python3.9/site-packages (0.13.2)\n",
      "Requirement already satisfied: pandas>=1.2 in /opt/app-root/lib/python3.9/site-packages (from seaborn) (2.2.2)\n",
      "Requirement already satisfied: numpy!=1.24.0,>=1.20 in /opt/app-root/lib/python3.9/site-packages (from seaborn) (1.26.4)\n",
      "Requirement already satisfied: matplotlib!=3.6.1,>=3.4 in /opt/app-root/lib/python3.9/site-packages (from seaborn) (3.8.4)\n",
      "Requirement already satisfied: pyparsing>=2.3.1 in /opt/app-root/lib/python3.9/site-packages (from matplotlib!=3.6.1,>=3.4->seaborn) (3.1.2)\n",
      "Requirement already satisfied: python-dateutil>=2.7 in /opt/app-root/lib/python3.9/site-packages (from matplotlib!=3.6.1,>=3.4->seaborn) (2.9.0.post0)\n",
      "Requirement already satisfied: cycler>=0.10 in /opt/app-root/lib/python3.9/site-packages (from matplotlib!=3.6.1,>=3.4->seaborn) (0.12.1)\n",
      "Requirement already satisfied: contourpy>=1.0.1 in /opt/app-root/lib/python3.9/site-packages (from matplotlib!=3.6.1,>=3.4->seaborn) (1.2.1)\n",
      "Requirement already satisfied: pillow>=8 in /opt/app-root/lib/python3.9/site-packages (from matplotlib!=3.6.1,>=3.4->seaborn) (10.3.0)\n",
      "Requirement already satisfied: kiwisolver>=1.3.1 in /opt/app-root/lib/python3.9/site-packages (from matplotlib!=3.6.1,>=3.4->seaborn) (1.4.5)\n",
      "Requirement already satisfied: fonttools>=4.22.0 in /opt/app-root/lib/python3.9/site-packages (from matplotlib!=3.6.1,>=3.4->seaborn) (4.51.0)\n",
      "Requirement already satisfied: importlib-resources>=3.2.0 in /opt/app-root/lib/python3.9/site-packages (from matplotlib!=3.6.1,>=3.4->seaborn) (6.4.0)\n",
      "Requirement already satisfied: packaging>=20.0 in /opt/app-root/lib/python3.9/site-packages (from matplotlib!=3.6.1,>=3.4->seaborn) (24.0)\n",
      "Requirement already satisfied: pytz>=2020.1 in /opt/app-root/lib/python3.9/site-packages (from pandas>=1.2->seaborn) (2024.1)\n",
      "Requirement already satisfied: tzdata>=2022.7 in /opt/app-root/lib/python3.9/site-packages (from pandas>=1.2->seaborn) (2024.1)\n",
      "Requirement already satisfied: zipp>=3.1.0 in /opt/app-root/lib/python3.9/site-packages (from importlib-resources>=3.2.0->matplotlib!=3.6.1,>=3.4->seaborn) (3.18.1)\n",
      "Requirement already satisfied: six>=1.5 in /opt/app-root/lib/python3.9/site-packages (from python-dateutil>=2.7->matplotlib!=3.6.1,>=3.4->seaborn) (1.16.0)\n",
      "\n",
      "\u001b[1m[\u001b[0m\u001b[34;49mnotice\u001b[0m\u001b[1;39;49m]\u001b[0m\u001b[39;49m A new release of pip available: \u001b[0m\u001b[31;49m22.2.2\u001b[0m\u001b[39;49m -> \u001b[0m\u001b[32;49m24.1\u001b[0m\n",
      "\u001b[1m[\u001b[0m\u001b[34;49mnotice\u001b[0m\u001b[1;39;49m]\u001b[0m\u001b[39;49m To update, run: \u001b[0m\u001b[32;49mpip install --upgrade pip\u001b[0m\n",
      "Requirement already satisfied: scikit-learn in /opt/app-root/lib/python3.9/site-packages (1.4.2)\n",
      "Requirement already satisfied: numpy>=1.19.5 in /opt/app-root/lib/python3.9/site-packages (from scikit-learn) (1.26.4)\n",
      "Requirement already satisfied: scipy>=1.6.0 in /opt/app-root/lib/python3.9/site-packages (from scikit-learn) (1.12.0)\n",
      "Requirement already satisfied: threadpoolctl>=2.0.0 in /opt/app-root/lib/python3.9/site-packages (from scikit-learn) (3.4.0)\n",
      "Requirement already satisfied: joblib>=1.2.0 in /opt/app-root/lib/python3.9/site-packages (from scikit-learn) (1.4.0)\n",
      "\n",
      "\u001b[1m[\u001b[0m\u001b[34;49mnotice\u001b[0m\u001b[1;39;49m]\u001b[0m\u001b[39;49m A new release of pip available: \u001b[0m\u001b[31;49m22.2.2\u001b[0m\u001b[39;49m -> \u001b[0m\u001b[32;49m24.1\u001b[0m\n",
      "\u001b[1m[\u001b[0m\u001b[34;49mnotice\u001b[0m\u001b[1;39;49m]\u001b[0m\u001b[39;49m To update, run: \u001b[0m\u001b[32;49mpip install --upgrade pip\u001b[0m\n"
     ]
    }
   ],
   "source": [
    "!pip install s3fs\n",
    "!pip install seaborn\n",
    "!pip install scikit-learn"
   ]
  },
  {
   "cell_type": "code",
   "execution_count": 19,
   "id": "400f8c24-fb14-4b84-b4f9-b7eb61af9076",
   "metadata": {
    "tags": []
   },
   "outputs": [],
   "source": [
    "import pandas\n",
    "import os\n",
    "import s3fs\n",
    "import random\n",
    "import sklearn.model_selection"
   ]
  },
  {
   "cell_type": "markdown",
   "id": "ce6a5e8d-2a24-4b96-99e6-ddb0c04af6b2",
   "metadata": {},
   "source": [
    "## Load Data"
   ]
  },
  {
   "cell_type": "code",
   "execution_count": 3,
   "id": "46483378-afb5-43c5-8e72-e6df9a45a9bb",
   "metadata": {
    "tags": []
   },
   "outputs": [],
   "source": [
    "AWS_ACCESS_KEY_ID = os.environ['AWS_ACCESS_KEY_ID']\n",
    "AWS_SECRET_ACCESS_KEY = os.environ['AWS_SECRET_ACCESS_KEY']\n",
    "AWS_S3_ENDPOINT = os.environ['AWS_S3_ENDPOINT']\n",
    "AWS_S3_BUCKET = os.environ['AWS_S3_BUCKET']"
   ]
  },
  {
   "cell_type": "code",
   "execution_count": 4,
   "id": "7979b688-37eb-41ec-a3c6-a5e29af271ac",
   "metadata": {
    "tags": []
   },
   "outputs": [],
   "source": [
    "def read_data(datasrc):\n",
    "    data = pandas.read_csv(\n",
    "        \"s3://\" + AWS_S3_BUCKET + \"/\" + datasrc, sep=';',\n",
    "        storage_options={\n",
    "            \"key\": AWS_ACCESS_KEY_ID,\n",
    "            \"secret\": AWS_SECRET_ACCESS_KEY,\n",
    "            \"endpoint_url\": AWS_S3_ENDPOINT,\n",
    "        }\n",
    "    )\n",
    "    return data"
   ]
  },
  {
   "cell_type": "code",
   "execution_count": 5,
   "id": "89894959-bd23-4cae-a8d7-53f1d655aad1",
   "metadata": {
    "tags": []
   },
   "outputs": [],
   "source": [
    "input_files = ['winequality-red.csv', 'winequality-white.csv']\n",
    "\n",
    "wine = {}\n",
    "\n",
    "for input_file in input_files:\n",
    "    wine[input_file] = read_data(input_file)"
   ]
  },
  {
   "cell_type": "code",
   "execution_count": 6,
   "id": "5ad72dc1-015c-456f-ba79-7e4f5ad2a7c3",
   "metadata": {
    "tags": []
   },
   "outputs": [
    {
     "name": "stdout",
     "output_type": "stream",
     "text": [
      "      fixed acidity  volatile acidity  citric acid  residual sugar  chlorides  \\\n",
      "0               7.4             0.700         0.00             1.9      0.076   \n",
      "1               7.8             0.880         0.00             2.6      0.098   \n",
      "2               7.8             0.760         0.04             2.3      0.092   \n",
      "3              11.2             0.280         0.56             1.9      0.075   \n",
      "4               7.4             0.700         0.00             1.9      0.076   \n",
      "...             ...               ...          ...             ...        ...   \n",
      "1594            6.2             0.600         0.08             2.0      0.090   \n",
      "1595            5.9             0.550         0.10             2.2      0.062   \n",
      "1596            6.3             0.510         0.13             2.3      0.076   \n",
      "1597            5.9             0.645         0.12             2.0      0.075   \n",
      "1598            6.0             0.310         0.47             3.6      0.067   \n",
      "\n",
      "      free sulfur dioxide  total sulfur dioxide  density    pH  sulphates  \\\n",
      "0                    11.0                  34.0  0.99780  3.51       0.56   \n",
      "1                    25.0                  67.0  0.99680  3.20       0.68   \n",
      "2                    15.0                  54.0  0.99700  3.26       0.65   \n",
      "3                    17.0                  60.0  0.99800  3.16       0.58   \n",
      "4                    11.0                  34.0  0.99780  3.51       0.56   \n",
      "...                   ...                   ...      ...   ...        ...   \n",
      "1594                 32.0                  44.0  0.99490  3.45       0.58   \n",
      "1595                 39.0                  51.0  0.99512  3.52       0.76   \n",
      "1596                 29.0                  40.0  0.99574  3.42       0.75   \n",
      "1597                 32.0                  44.0  0.99547  3.57       0.71   \n",
      "1598                 18.0                  42.0  0.99549  3.39       0.66   \n",
      "\n",
      "      alcohol  quality  \n",
      "0         9.4        5  \n",
      "1         9.8        5  \n",
      "2         9.8        5  \n",
      "3         9.8        6  \n",
      "4         9.4        5  \n",
      "...       ...      ...  \n",
      "1594     10.5        5  \n",
      "1595     11.2        6  \n",
      "1596     11.0        6  \n",
      "1597     10.2        5  \n",
      "1598     11.0        6  \n",
      "\n",
      "[1599 rows x 12 columns]\n",
      "      fixed acidity  volatile acidity  citric acid  residual sugar  chlorides  \\\n",
      "0               7.0              0.27         0.36            20.7      0.045   \n",
      "1               6.3              0.30         0.34             1.6      0.049   \n",
      "2               8.1              0.28         0.40             6.9      0.050   \n",
      "3               7.2              0.23         0.32             8.5      0.058   \n",
      "4               7.2              0.23         0.32             8.5      0.058   \n",
      "...             ...               ...          ...             ...        ...   \n",
      "4893            6.2              0.21         0.29             1.6      0.039   \n",
      "4894            6.6              0.32         0.36             8.0      0.047   \n",
      "4895            6.5              0.24         0.19             1.2      0.041   \n",
      "4896            5.5              0.29         0.30             1.1      0.022   \n",
      "4897            6.0              0.21         0.38             0.8      0.020   \n",
      "\n",
      "      free sulfur dioxide  total sulfur dioxide  density    pH  sulphates  \\\n",
      "0                    45.0                 170.0  1.00100  3.00       0.45   \n",
      "1                    14.0                 132.0  0.99400  3.30       0.49   \n",
      "2                    30.0                  97.0  0.99510  3.26       0.44   \n",
      "3                    47.0                 186.0  0.99560  3.19       0.40   \n",
      "4                    47.0                 186.0  0.99560  3.19       0.40   \n",
      "...                   ...                   ...      ...   ...        ...   \n",
      "4893                 24.0                  92.0  0.99114  3.27       0.50   \n",
      "4894                 57.0                 168.0  0.99490  3.15       0.46   \n",
      "4895                 30.0                 111.0  0.99254  2.99       0.46   \n",
      "4896                 20.0                 110.0  0.98869  3.34       0.38   \n",
      "4897                 22.0                  98.0  0.98941  3.26       0.32   \n",
      "\n",
      "      alcohol  quality  \n",
      "0         8.8        6  \n",
      "1         9.5        6  \n",
      "2        10.1        6  \n",
      "3         9.9        6  \n",
      "4         9.9        6  \n",
      "...       ...      ...  \n",
      "4893     11.2        6  \n",
      "4894      9.6        5  \n",
      "4895      9.4        6  \n",
      "4896     12.8        7  \n",
      "4897     11.8        6  \n",
      "\n",
      "[4898 rows x 12 columns]\n"
     ]
    }
   ],
   "source": [
    "for key in wine:\n",
    "    print(wine[key])\n",
    "    "
   ]
  },
  {
   "cell_type": "markdown",
   "id": "a83654af-86ce-45d0-8d89-0c9d9005395e",
   "metadata": {},
   "source": [
    "## Create two different population datasets\n",
    "From the original wine datasets we will create two different population datasets, one with a similar mean and sdev to the orignal, and one with a negative skew and increased mean. We divide these datasets into separate training and inference datasets.\n"
   ]
  },
  {
   "cell_type": "code",
   "execution_count": 6,
   "id": "4359cadb-7927-4acb-8b0f-aeb450e090b8",
   "metadata": {
    "tags": []
   },
   "outputs": [
    {
     "data": {
      "image/png": "[encoded data removed]",
      "text/plain": [
       "<Figure size 500x500 with 1 Axes>"
      ]
     },
     "metadata": {},
     "output_type": "display_data"
    },
    {
     "data": {
      "image/png": "[encoded data removed]",
      "text/plain": [
       "<Figure size 500x500 with 1 Axes>"
      ]
     },
     "metadata": {},
     "output_type": "display_data"
    }
   ],
   "source": [
    "import seaborn as sns\n",
    "for input_file in wine:\n",
    "    sns.displot(wine[input_file][\"total sulfur dioxide\"], kde=False)"
   ]
  },
  {
   "cell_type": "markdown",
   "id": "d3533b1e-5e7d-4e39-a758-3becc44d531e",
   "metadata": {},
   "source": [
    "OK, let's start by creating two datasets from the original sample data. Dataset A will look like the original, and dataset B will be skewed, which means it will be statistically different."
   ]
  },
  {
   "cell_type": "code",
   "execution_count": 22,
   "id": "a19df3c5-b3cf-4335-a030-20cbff3bb70b",
   "metadata": {},
   "outputs": [
    {
     "ename": "TypeError",
     "evalue": "Singleton array array(0.01) cannot be considered a valid collection.",
     "output_type": "error",
     "traceback": [
      "\u001b[0;31m---------------------------------------------------------------------------\u001b[0m",
      "\u001b[0;31mTypeError\u001b[0m                                 Traceback (most recent call last)",
      "Cell \u001b[0;32mIn[22], line 52\u001b[0m\n\u001b[1;32m     45\u001b[0m     synthetic_wine_b[\u001b[38;5;124m\"\u001b[39m\u001b[38;5;124msyn-\u001b[39m\u001b[38;5;124m\"\u001b[39m \u001b[38;5;241m+\u001b[39m input_file] \u001b[38;5;241m=\u001b[39m pandas\u001b[38;5;241m.\u001b[39mconcat(syn_a, ignore_index\u001b[38;5;241m=\u001b[39m\u001b[38;5;28;01mTrue\u001b[39;00m)\n\u001b[1;32m     46\u001b[0m     \u001b[38;5;66;03m# print(synthetic_wine_a_train[\"syn-\" + input_file].info)\u001b[39;00m\n\u001b[1;32m     47\u001b[0m     \u001b[38;5;66;03m# print(synthetic_wine_b_train[\"syn-\" + input_file].info)\u001b[39;00m\n\u001b[1;32m     48\u001b[0m             \n\u001b[1;32m     49\u001b[0m     \n\u001b[1;32m     50\u001b[0m     \u001b[38;5;66;03m# let's split the A and B dataset into training and inference data\u001b[39;00m\n\u001b[1;32m     51\u001b[0m     synthetic_wine_a_train[\u001b[38;5;124m\"\u001b[39m\u001b[38;5;124msyn-\u001b[39m\u001b[38;5;124m\"\u001b[39m \u001b[38;5;241m+\u001b[39m input_file], synthetic_wine_a_infer[\u001b[38;5;124m\"\u001b[39m\u001b[38;5;124msyn-\u001b[39m\u001b[38;5;124m\"\u001b[39m \u001b[38;5;241m+\u001b[39m input_file] \u001b[38;5;241m=\u001b[39m \\\n\u001b[0;32m---> 52\u001b[0m     \u001b[43msklearn\u001b[49m\u001b[38;5;241;43m.\u001b[39;49m\u001b[43mmodel_selection\u001b[49m\u001b[38;5;241;43m.\u001b[39;49m\u001b[43mtrain_test_split\u001b[49m\u001b[43m(\u001b[49m\u001b[43msynthetic_wine_a\u001b[49m\u001b[43m[\u001b[49m\u001b[38;5;124;43m\"\u001b[39;49m\u001b[38;5;124;43msyn-\u001b[39;49m\u001b[38;5;124;43m\"\u001b[39;49m\u001b[43m \u001b[49m\u001b[38;5;241;43m+\u001b[39;49m\u001b[43m \u001b[49m\u001b[43minput_file\u001b[49m\u001b[43m]\u001b[49m\u001b[43m,\u001b[49m\u001b[43m \u001b[49m\u001b[38;5;241;43m0.01\u001b[39;49m\u001b[43m,\u001b[49m\u001b[43m \u001b[49m\u001b[43mrandom_state\u001b[49m\u001b[38;5;241;43m=\u001b[39;49m\u001b[38;5;241;43m123\u001b[39;49m\u001b[43m)\u001b[49m\n\u001b[1;32m     58\u001b[0m \u001b[38;5;66;03m#     synthetic_wine_a_infer[\"syn-\" + input_file] = pandas.concat(syn_a)\u001b[39;00m\n\u001b[1;32m     59\u001b[0m \u001b[38;5;66;03m#     synthetic_wine_b_infer[\"syn-\" + input_file] = pandas.concat(syn_b)      \u001b[39;00m\n\u001b[1;32m     60\u001b[0m                 \n\u001b[1;32m     61\u001b[0m \u001b[38;5;66;03m#   #  print(synthetic_wine_a_train[\"syn-\" + input_file].info)\u001b[39;00m\n\u001b[1;32m     62\u001b[0m \u001b[38;5;66;03m#     print(synthetic_wine_a_infer[\"syn-\" + input_file].info)\u001b[39;00m\n",
      "File \u001b[0;32m/opt/app-root/lib64/python3.9/site-packages/sklearn/utils/_param_validation.py:213\u001b[0m, in \u001b[0;36mvalidate_params.<locals>.decorator.<locals>.wrapper\u001b[0;34m(*args, **kwargs)\u001b[0m\n\u001b[1;32m    207\u001b[0m \u001b[38;5;28;01mtry\u001b[39;00m:\n\u001b[1;32m    208\u001b[0m     \u001b[38;5;28;01mwith\u001b[39;00m config_context(\n\u001b[1;32m    209\u001b[0m         skip_parameter_validation\u001b[38;5;241m=\u001b[39m(\n\u001b[1;32m    210\u001b[0m             prefer_skip_nested_validation \u001b[38;5;129;01mor\u001b[39;00m global_skip_validation\n\u001b[1;32m    211\u001b[0m         )\n\u001b[1;32m    212\u001b[0m     ):\n\u001b[0;32m--> 213\u001b[0m         \u001b[38;5;28;01mreturn\u001b[39;00m \u001b[43mfunc\u001b[49m\u001b[43m(\u001b[49m\u001b[38;5;241;43m*\u001b[39;49m\u001b[43margs\u001b[49m\u001b[43m,\u001b[49m\u001b[43m \u001b[49m\u001b[38;5;241;43m*\u001b[39;49m\u001b[38;5;241;43m*\u001b[39;49m\u001b[43mkwargs\u001b[49m\u001b[43m)\u001b[49m\n\u001b[1;32m    214\u001b[0m \u001b[38;5;28;01mexcept\u001b[39;00m InvalidParameterError \u001b[38;5;28;01mas\u001b[39;00m e:\n\u001b[1;32m    215\u001b[0m     \u001b[38;5;66;03m# When the function is just a wrapper around an estimator, we allow\u001b[39;00m\n\u001b[1;32m    216\u001b[0m     \u001b[38;5;66;03m# the function to delegate validation to the estimator, but we replace\u001b[39;00m\n\u001b[1;32m    217\u001b[0m     \u001b[38;5;66;03m# the name of the estimator by the name of the function in the error\u001b[39;00m\n\u001b[1;32m    218\u001b[0m     \u001b[38;5;66;03m# message to avoid confusion.\u001b[39;00m\n\u001b[1;32m    219\u001b[0m     msg \u001b[38;5;241m=\u001b[39m re\u001b[38;5;241m.\u001b[39msub(\n\u001b[1;32m    220\u001b[0m         \u001b[38;5;124mr\u001b[39m\u001b[38;5;124m\"\u001b[39m\u001b[38;5;124mparameter of \u001b[39m\u001b[38;5;124m\\\u001b[39m\u001b[38;5;124mw+ must be\u001b[39m\u001b[38;5;124m\"\u001b[39m,\n\u001b[1;32m    221\u001b[0m         \u001b[38;5;124mf\u001b[39m\u001b[38;5;124m\"\u001b[39m\u001b[38;5;124mparameter of \u001b[39m\u001b[38;5;132;01m{\u001b[39;00mfunc\u001b[38;5;241m.\u001b[39m\u001b[38;5;18m__qualname__\u001b[39m\u001b[38;5;132;01m}\u001b[39;00m\u001b[38;5;124m must be\u001b[39m\u001b[38;5;124m\"\u001b[39m,\n\u001b[1;32m    222\u001b[0m         \u001b[38;5;28mstr\u001b[39m(e),\n\u001b[1;32m    223\u001b[0m     )\n",
      "File \u001b[0;32m/opt/app-root/lib64/python3.9/site-packages/sklearn/model_selection/_split.py:2657\u001b[0m, in \u001b[0;36mtrain_test_split\u001b[0;34m(test_size, train_size, random_state, shuffle, stratify, *arrays)\u001b[0m\n\u001b[1;32m   2654\u001b[0m \u001b[38;5;28;01mif\u001b[39;00m n_arrays \u001b[38;5;241m==\u001b[39m \u001b[38;5;241m0\u001b[39m:\n\u001b[1;32m   2655\u001b[0m     \u001b[38;5;28;01mraise\u001b[39;00m \u001b[38;5;167;01mValueError\u001b[39;00m(\u001b[38;5;124m\"\u001b[39m\u001b[38;5;124mAt least one array required as input\u001b[39m\u001b[38;5;124m\"\u001b[39m)\n\u001b[0;32m-> 2657\u001b[0m arrays \u001b[38;5;241m=\u001b[39m \u001b[43mindexable\u001b[49m\u001b[43m(\u001b[49m\u001b[38;5;241;43m*\u001b[39;49m\u001b[43marrays\u001b[49m\u001b[43m)\u001b[49m\n\u001b[1;32m   2659\u001b[0m n_samples \u001b[38;5;241m=\u001b[39m _num_samples(arrays[\u001b[38;5;241m0\u001b[39m])\n\u001b[1;32m   2660\u001b[0m n_train, n_test \u001b[38;5;241m=\u001b[39m _validate_shuffle_split(\n\u001b[1;32m   2661\u001b[0m     n_samples, test_size, train_size, default_test_size\u001b[38;5;241m=\u001b[39m\u001b[38;5;241m0.25\u001b[39m\n\u001b[1;32m   2662\u001b[0m )\n",
      "File \u001b[0;32m/opt/app-root/lib64/python3.9/site-packages/sklearn/utils/validation.py:514\u001b[0m, in \u001b[0;36mindexable\u001b[0;34m(*iterables)\u001b[0m\n\u001b[1;32m    484\u001b[0m \u001b[38;5;250m\u001b[39m\u001b[38;5;124;03m\"\"\"Make arrays indexable for cross-validation.\u001b[39;00m\n\u001b[1;32m    485\u001b[0m \n\u001b[1;32m    486\u001b[0m \u001b[38;5;124;03mChecks consistent length, passes through None, and ensures that everything\u001b[39;00m\n\u001b[0;32m   (...)\u001b[0m\n\u001b[1;32m    510\u001b[0m \u001b[38;5;124;03m[[1, 2, 3], array([2, 3, 4]), None, <3x1 sparse matrix ...>]\u001b[39;00m\n\u001b[1;32m    511\u001b[0m \u001b[38;5;124;03m\"\"\"\u001b[39;00m\n\u001b[1;32m    513\u001b[0m result \u001b[38;5;241m=\u001b[39m [_make_indexable(X) \u001b[38;5;28;01mfor\u001b[39;00m X \u001b[38;5;129;01min\u001b[39;00m iterables]\n\u001b[0;32m--> 514\u001b[0m \u001b[43mcheck_consistent_length\u001b[49m\u001b[43m(\u001b[49m\u001b[38;5;241;43m*\u001b[39;49m\u001b[43mresult\u001b[49m\u001b[43m)\u001b[49m\n\u001b[1;32m    515\u001b[0m \u001b[38;5;28;01mreturn\u001b[39;00m result\n",
      "File \u001b[0;32m/opt/app-root/lib64/python3.9/site-packages/sklearn/utils/validation.py:454\u001b[0m, in \u001b[0;36mcheck_consistent_length\u001b[0;34m(*arrays)\u001b[0m\n\u001b[1;32m    436\u001b[0m \u001b[38;5;28;01mdef\u001b[39;00m \u001b[38;5;21mcheck_consistent_length\u001b[39m(\u001b[38;5;241m*\u001b[39marrays):\n\u001b[1;32m    437\u001b[0m \u001b[38;5;250m    \u001b[39m\u001b[38;5;124;03m\"\"\"Check that all arrays have consistent first dimensions.\u001b[39;00m\n\u001b[1;32m    438\u001b[0m \n\u001b[1;32m    439\u001b[0m \u001b[38;5;124;03m    Checks whether all objects in arrays have the same shape or length.\u001b[39;00m\n\u001b[0;32m   (...)\u001b[0m\n\u001b[1;32m    451\u001b[0m \u001b[38;5;124;03m    >>> check_consistent_length(a, b)\u001b[39;00m\n\u001b[1;32m    452\u001b[0m \u001b[38;5;124;03m    \"\"\"\u001b[39;00m\n\u001b[0;32m--> 454\u001b[0m     lengths \u001b[38;5;241m=\u001b[39m [_num_samples(X) \u001b[38;5;28;01mfor\u001b[39;00m X \u001b[38;5;129;01min\u001b[39;00m arrays \u001b[38;5;28;01mif\u001b[39;00m X \u001b[38;5;129;01mis\u001b[39;00m \u001b[38;5;129;01mnot\u001b[39;00m \u001b[38;5;28;01mNone\u001b[39;00m]\n\u001b[1;32m    455\u001b[0m     uniques \u001b[38;5;241m=\u001b[39m np\u001b[38;5;241m.\u001b[39munique(lengths)\n\u001b[1;32m    456\u001b[0m     \u001b[38;5;28;01mif\u001b[39;00m \u001b[38;5;28mlen\u001b[39m(uniques) \u001b[38;5;241m>\u001b[39m \u001b[38;5;241m1\u001b[39m:\n",
      "File \u001b[0;32m/opt/app-root/lib64/python3.9/site-packages/sklearn/utils/validation.py:454\u001b[0m, in \u001b[0;36m<listcomp>\u001b[0;34m(.0)\u001b[0m\n\u001b[1;32m    436\u001b[0m \u001b[38;5;28;01mdef\u001b[39;00m \u001b[38;5;21mcheck_consistent_length\u001b[39m(\u001b[38;5;241m*\u001b[39marrays):\n\u001b[1;32m    437\u001b[0m \u001b[38;5;250m    \u001b[39m\u001b[38;5;124;03m\"\"\"Check that all arrays have consistent first dimensions.\u001b[39;00m\n\u001b[1;32m    438\u001b[0m \n\u001b[1;32m    439\u001b[0m \u001b[38;5;124;03m    Checks whether all objects in arrays have the same shape or length.\u001b[39;00m\n\u001b[0;32m   (...)\u001b[0m\n\u001b[1;32m    451\u001b[0m \u001b[38;5;124;03m    >>> check_consistent_length(a, b)\u001b[39;00m\n\u001b[1;32m    452\u001b[0m \u001b[38;5;124;03m    \"\"\"\u001b[39;00m\n\u001b[0;32m--> 454\u001b[0m     lengths \u001b[38;5;241m=\u001b[39m [\u001b[43m_num_samples\u001b[49m\u001b[43m(\u001b[49m\u001b[43mX\u001b[49m\u001b[43m)\u001b[49m \u001b[38;5;28;01mfor\u001b[39;00m X \u001b[38;5;129;01min\u001b[39;00m arrays \u001b[38;5;28;01mif\u001b[39;00m X \u001b[38;5;129;01mis\u001b[39;00m \u001b[38;5;129;01mnot\u001b[39;00m \u001b[38;5;28;01mNone\u001b[39;00m]\n\u001b[1;32m    455\u001b[0m     uniques \u001b[38;5;241m=\u001b[39m np\u001b[38;5;241m.\u001b[39munique(lengths)\n\u001b[1;32m    456\u001b[0m     \u001b[38;5;28;01mif\u001b[39;00m \u001b[38;5;28mlen\u001b[39m(uniques) \u001b[38;5;241m>\u001b[39m \u001b[38;5;241m1\u001b[39m:\n",
      "File \u001b[0;32m/opt/app-root/lib64/python3.9/site-packages/sklearn/utils/validation.py:382\u001b[0m, in \u001b[0;36m_num_samples\u001b[0;34m(x)\u001b[0m\n\u001b[1;32m    380\u001b[0m \u001b[38;5;28;01mif\u001b[39;00m \u001b[38;5;28mhasattr\u001b[39m(x, \u001b[38;5;124m\"\u001b[39m\u001b[38;5;124mshape\u001b[39m\u001b[38;5;124m\"\u001b[39m) \u001b[38;5;129;01mand\u001b[39;00m x\u001b[38;5;241m.\u001b[39mshape \u001b[38;5;129;01mis\u001b[39;00m \u001b[38;5;129;01mnot\u001b[39;00m \u001b[38;5;28;01mNone\u001b[39;00m:\n\u001b[1;32m    381\u001b[0m     \u001b[38;5;28;01mif\u001b[39;00m \u001b[38;5;28mlen\u001b[39m(x\u001b[38;5;241m.\u001b[39mshape) \u001b[38;5;241m==\u001b[39m \u001b[38;5;241m0\u001b[39m:\n\u001b[0;32m--> 382\u001b[0m         \u001b[38;5;28;01mraise\u001b[39;00m \u001b[38;5;167;01mTypeError\u001b[39;00m(\n\u001b[1;32m    383\u001b[0m             \u001b[38;5;124m\"\u001b[39m\u001b[38;5;124mSingleton array \u001b[39m\u001b[38;5;132;01m%r\u001b[39;00m\u001b[38;5;124m cannot be considered a valid collection.\u001b[39m\u001b[38;5;124m\"\u001b[39m \u001b[38;5;241m%\u001b[39m x\n\u001b[1;32m    384\u001b[0m         )\n\u001b[1;32m    385\u001b[0m     \u001b[38;5;66;03m# Check that shape is returning an integer or default to len\u001b[39;00m\n\u001b[1;32m    386\u001b[0m     \u001b[38;5;66;03m# Dask dataframes may not return numeric shape[0] value\u001b[39;00m\n\u001b[1;32m    387\u001b[0m     \u001b[38;5;28;01mif\u001b[39;00m \u001b[38;5;28misinstance\u001b[39m(x\u001b[38;5;241m.\u001b[39mshape[\u001b[38;5;241m0\u001b[39m], numbers\u001b[38;5;241m.\u001b[39mIntegral):\n",
      "\u001b[0;31mTypeError\u001b[0m: Singleton array array(0.01) cannot be considered a valid collection."
     ]
    }
   ],
   "source": [
    "# synthetic_wine_a_train = {}\n",
    "# synthetic_wine_a_infer = {}\n",
    "# synthetic_wine_b_train = {}\n",
    "# synthetic_wine_b_infer = {}\n",
    "\n",
    "\n",
    "\n",
    "synthetic_wine_a = {}\n",
    "synthetic_wine_b = {}\n",
    "\n",
    "# loop over the input files (white and red wine)\n",
    "for input_file in wine:\n",
    "    # synthetic_wine_a[\"syn-\" + input_file] = pandas.DataFrame()\n",
    "    # synthetic_wine_b_train[\"syn-\" + input_file] = pandas.DataFrame()\n",
    "    # synthetic_wine_b_infer[\"syn-\" + input_file] = pandas.DataFrame()\n",
    "\n",
    "    sdev = wine[input_file].std(axis=0)\n",
    "    # mean = wine[input_file].mean(axis=0)\n",
    "\n",
    "#     for column in wine[input_file].columns:\n",
    "#         synthetic_wine_a[\"syn-\" + input_file][column] = wine[input_file][column] * (1 + sdev[column] * random.uniform(-0.05, 0.05))\n",
    "#         synthetic_wine_b[\"syn-\" + input_file][column] = wine[input_file][column] * (1 + sdev[column] * random.uniform(0.0, 0.1))\n",
    "    \n",
    "    # print(input_file)\n",
    "    # print(synthetic_wine_a_train[\"syn-\" + input_file].info)\n",
    "    # print(wine[input_file].std(axis=0))\n",
    "    \n",
    "    syn_a = []\n",
    "    syn_b = []\n",
    "    \n",
    "    syn_data_a = pandas.DataFrame()\n",
    "    syn_data_b = pandas.DataFrame()\n",
    "    \n",
    "    # Let's create datasets that is 1000 times bigger than the original\n",
    "    for _ in range(1000):  \n",
    "        for column in wine[input_file].columns:\n",
    "                # The A dataset simply has the sdev randomly varied up to +/- 5%\n",
    "                syn_data_a[column] = wine[input_file][column] * (1 + sdev[column] * random.uniform(-0.05, 0.05))\n",
    "                # The A dataset has the sdev randomly varied up to +10%\n",
    "                syn_data_b[column] = wine[input_file][column] * (1 + sdev[column] * random.uniform(0.0, 0.1))\n",
    "        syn_a.append(syn_data_a)\n",
    "        syn_b.append(syn_data_b)\n",
    "    \n",
    "    synthetic_wine_a[\"syn-\" + input_file] = pandas.concat(syn_a, ignore_index=True)\n",
    "    synthetic_wine_b[\"syn-\" + input_file] = pandas.concat(syn_a, ignore_index=True)\n",
    "    # print(synthetic_wine_a_train[\"syn-\" + input_file].info)\n",
    "    # print(synthetic_wine_b_train[\"syn-\" + input_file].info)\n",
    "            \n",
    "    \n",
    "    # let's split the A and B dataset into training and inference data\n",
    "    synthetic_wine_a_train[\"syn-\" + input_file], synthetic_wine_a_infer[\"syn-\" + input_file] = \\\n",
    "    sklearn.model_selection.train_test_split(synthetic_wine_a[\"syn-\" + input_file], 0.01, random_state=123)\n",
    "        \n",
    "        \n",
    "    \n",
    "    \n",
    "    \n",
    "#     synthetic_wine_a_infer[\"syn-\" + input_file] = pandas.concat(syn_a)\n",
    "#     synthetic_wine_b_infer[\"syn-\" + input_file] = pandas.concat(syn_b)      \n",
    "                \n",
    "#   #  print(synthetic_wine_a_train[\"syn-\" + input_file].info)\n",
    "#     print(synthetic_wine_a_infer[\"syn-\" + input_file].info)\n",
    "    \n",
    "    "
   ]
  },
  {
   "cell_type": "code",
   "execution_count": 30,
   "id": "5e2de478-7ee2-4769-a6c6-133425edc7e1",
   "metadata": {
    "tags": []
   },
   "outputs": [
    {
     "name": "stdout",
     "output_type": "stream",
     "text": [
      "<bound method DataFrame.info of          fixed acidity  volatile acidity  citric acid  residual sugar  \\\n",
      "273691        7.543280          0.516898     0.029822        1.717733   \n",
      "806932        7.166116          0.308151     0.337984        2.526078   \n",
      "209257        6.977534          0.636183     0.069585        1.818776   \n",
      "1569696       8.109026          0.367793     0.646146        6.466759   \n",
      "436191        7.731862          0.775347     0.000000        2.222948   \n",
      "...                ...               ...          ...             ...   \n",
      "1261636       5.940333          0.387674     0.159051        1.414603   \n",
      "580636        6.506079          1.083498     0.059644        2.121905   \n",
      "486600        9.900556          0.238568     0.417510        1.818776   \n",
      "248346        9.806265          0.437375     0.725672        6.618323   \n",
      "962871        7.920444          0.710735     0.198814        2.425034   \n",
      "\n",
      "         chlorides  free sulfur dioxide  total sulfur dioxide  density  \\\n",
      "273691    0.070030             9.383732             72.404394  0.99566   \n",
      "806932    0.082035            24.397704             72.404394  0.99347   \n",
      "209257    0.100043             7.506986             47.580030  0.99601   \n",
      "1569696   0.080034             2.815120             16.549576  0.99808   \n",
      "436191    0.089038            12.198852             53.786121  0.99771   \n",
      "...            ...                  ...                   ...      ...   \n",
      "1261636   0.080034            10.322106             47.580030  0.99541   \n",
      "580636    0.061026            11.260479             64.129606  0.99471   \n",
      "486600    0.077033             5.630239             45.511333  0.99751   \n",
      "248346    0.074032            35.658183            157.220969  0.99891   \n",
      "962871    0.076032             9.383732             78.610485  0.99726   \n",
      "\n",
      "               pH  sulphates    alcohol   quality  \n",
      "273691   3.330281   0.566403   9.866597  4.821555  \n",
      "806932   3.210630   0.586277  12.333246  6.750176  \n",
      "209257   3.290397   0.576340   9.471933  4.821555  \n",
      "1569696  3.260485   0.576340  10.853257  4.821555  \n",
      "436191   3.360194   0.457097   9.471933  3.857244  \n",
      "...           ...        ...        ...       ...  \n",
      "1261636  3.330281   0.556466   9.175935  4.821555  \n",
      "580636   3.499786   0.427287  11.247921  3.857244  \n",
      "486600   3.200659   1.043374  10.655925  6.750176  \n",
      "248346   3.160776   0.844636  11.839916  6.750176  \n",
      "962871   3.300368   0.635962   9.274601  4.821555  \n",
      "\n",
      "[15990 rows x 12 columns]>\n"
     ]
    }
   ],
   "source": [
    "    # let's split the A and B dataset into training and inference data\n",
    "    synthetic_wine_a_train = {}\n",
    "    synthetic_wine_a_infer = {}\n",
    "    synthetic_wine_b_train = {}\n",
    "    synthetic_wine_b_infer = {}\n",
    "    \n",
    "    synthetic_wine_a_train[\"syn-\" + input_file], synthetic_wine_a_infer[\"syn-\" + input_file] = \\\n",
    "    sklearn.model_selection.train_test_split(synthetic_wine_a[\"syn-\" + input_file], test_size=0.01, random_state=123)\n",
    "    \n",
    "    synthetic_wine_b_train[\"syn-\" + input_file], synthetic_wine_b_infer[\"syn-\" + input_file] = \\\n",
    "    sklearn.model_selection.train_test_split(synthetic_wine_b[\"syn-\" + input_file], test_size=0.01, random_state=123)\n",
    "    \n",
    "    print(synthetic_wine_a_infer[\"syn-\" + input_file].info)"
   ]
  },
  {
   "cell_type": "code",
   "execution_count": 9,
   "id": "8328a3e7-d584-4f07-8d97-0b1e847c8d2e",
   "metadata": {},
   "outputs": [
    {
     "name": "stdout",
     "output_type": "stream",
     "text": [
      "<bound method DataFrame.info of          fixed acidity  volatile acidity  citric acid  residual sugar  \\\n",
      "0             7.956901          0.702457     0.000000        1.808405   \n",
      "1             8.387004          0.883089     0.000000        2.474659   \n",
      "2             8.387004          0.762668     0.040048        2.189122   \n",
      "3            12.042877          0.280983     0.560673        1.808405   \n",
      "4             7.956901          0.702457     0.000000        1.808405   \n",
      "...                ...               ...          ...             ...   \n",
      "1598995       6.666593          0.602106     0.080096        1.903584   \n",
      "1598996       6.344016          0.551931     0.100120        2.093943   \n",
      "1598997       6.774118          0.511790     0.130156        2.189122   \n",
      "1598998       6.344016          0.647264     0.120144        1.903584   \n",
      "1598999       6.451541          0.311088     0.470565        3.426451   \n",
      "\n",
      "         chlorides  free sulfur dioxide  total sulfur dioxide   density  \\\n",
      "0         0.075896             5.426000             51.226164  0.997732   \n",
      "1         0.097866            12.331819            100.945677  0.996732   \n",
      "2         0.091874             7.399091             81.359202  0.996932   \n",
      "3         0.074897             8.385637             90.399114  0.997932   \n",
      "4         0.075896             5.426000             51.226164  0.997732   \n",
      "...            ...                  ...                   ...       ...   \n",
      "1598995   0.089877            15.784728             66.292683  0.994832   \n",
      "1598996   0.061915            19.237637             76.839247  0.995052   \n",
      "1598997   0.075896            14.304910             60.266076  0.995672   \n",
      "1598998   0.074897            15.784728             66.292683  0.995402   \n",
      "1598999   0.066908             8.878909             63.279380  0.995422   \n",
      "\n",
      "               pH  sulphates    alcohol   quality  \n",
      "0        3.493949   0.564336   9.343406  5.106410  \n",
      "1        3.185367   0.685265   9.740997  5.106410  \n",
      "2        3.245092   0.655033   9.740997  5.106410  \n",
      "3        3.145550   0.584491   9.740997  6.127691  \n",
      "4        3.493949   0.564336   9.343406  5.106410  \n",
      "...           ...        ...        ...       ...  \n",
      "1598995  3.434223   0.584491  10.436783  5.106410  \n",
      "1598996  3.503903   0.765884  11.132568  6.127691  \n",
      "1598997  3.404361   0.755807  10.933773  6.127691  \n",
      "1598998  3.553675   0.715497  10.138589  5.106410  \n",
      "1598999  3.374498   0.665110  10.933773  6.127691  \n",
      "\n",
      "[1599000 rows x 12 columns]>\n",
      "<bound method DataFrame.info of          fixed acidity  volatile acidity  citric acid  residual sugar  \\\n",
      "0             7.137596          0.269844     0.361998       25.284198   \n",
      "1             6.423836          0.299826     0.341887        1.954334   \n",
      "2             8.259218          0.279838     0.402220        8.428066   \n",
      "3             7.341527          0.229867     0.321776       10.382400   \n",
      "4             7.341527          0.229867     0.321776       10.382400   \n",
      "...                ...               ...          ...             ...   \n",
      "4897995       6.321871          0.209878     0.291609        1.954334   \n",
      "4897996       6.729733          0.319815     0.361998        9.771671   \n",
      "4897997       6.627768          0.239861     0.191054        1.465751   \n",
      "4897998       5.608111          0.289832     0.301665        1.343605   \n",
      "4897999       6.117940          0.209878     0.382109        0.977167   \n",
      "\n",
      "         chlorides  free sulfur dioxide  total sulfur dioxide   density  \\\n",
      "0         0.044982            65.569615           -112.238545  1.001135   \n",
      "1         0.048980            20.399436            -87.149929  0.994134   \n",
      "2         0.049980            43.713077            -64.041994  0.995234   \n",
      "3         0.057977            68.483821           -122.802173  0.995734   \n",
      "4         0.057977            68.483821           -122.802173  0.995734   \n",
      "...            ...                  ...                   ...       ...   \n",
      "4897995   0.038984            34.970462            -60.740860  0.991273   \n",
      "4897996   0.046981            83.054846           -110.918092  0.995034   \n",
      "4897997   0.040984            43.713077            -73.285168  0.992673   \n",
      "4897998   0.021991            29.142051            -72.624941  0.988823   \n",
      "4897999   0.019992            32.056256            -64.702220  0.989543   \n",
      "\n",
      "               pH  sulphates    alcohol   quality  \n",
      "0        2.986871   0.449556   8.823820  6.209838  \n",
      "1        3.285558   0.489517   9.525714  6.209838  \n",
      "2        3.245733   0.439566  10.127338  6.209838  \n",
      "3        3.176040   0.399606   9.926797  6.209838  \n",
      "4        3.176040   0.399606   9.926797  6.209838  \n",
      "...           ...        ...        ...       ...  \n",
      "4897995  3.255689   0.499507  11.230316  6.209838  \n",
      "4897996  3.136215   0.459547   9.625985  5.174865  \n",
      "4897997  2.976915   0.459547   9.425444  6.209838  \n",
      "4897998  3.325383   0.379625  12.834647  7.244811  \n",
      "4897999  3.245733   0.319685  11.831940  6.209838  \n",
      "\n",
      "[4898000 rows x 12 columns]>\n"
     ]
    }
   ],
   "source": [
    "for _ in synthetic_wine_a.keys():\n",
    "    print(synthetic_wine_a[_].info)"
   ]
  }
 ],
 "metadata": {
  "kernelspec": {
   "display_name": "Python 3.9",
   "language": "python",
   "name": "python3"
  },
  "language_info": {
   "codemirror_mode": {
    "name": "ipython",
    "version": 3
   },
   "file_extension": ".py",
   "mimetype": "text/x-python",
   "name": "python",
   "nbconvert_exporter": "python",
   "pygments_lexer": "ipython3",
   "version": "3.9.16"
  }
 },
 "nbformat": 4,
 "nbformat_minor": 5
}
