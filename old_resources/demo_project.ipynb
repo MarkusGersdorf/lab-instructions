{
 "cells": [
  {
   "cell_type": "markdown",
   "id": "73878580-3986-4fc3-81b6-f598e0783b4f",
   "metadata": {},
   "source": [
    "# Demo project - Wine quality prediction"
   ]
  },
  {
   "cell_type": "markdown",
   "id": "53536e98-387e-4457-9d03-5a1d435837a6",
   "metadata": {},
   "source": [
    "## Contents:\n",
    "* [Import packages](#first-bullet)\n",
    "* [Load Data](#second-bullet)\n",
    "* [Exploratory data analysis](#third-bullet)\n",
    "* [Prepare dataset for training model](#forth-bullet)\n",
    "* [Build a baseline model](#fifth-bullet)\n",
    "* [Experiment with a new model](#sixth-bullet)\n",
    "* [Predict](#seventh-bullet)"
   ]
  },
  {
   "cell_type": "markdown",
   "id": "ff902f5d-7bc1-49c9-8994-d4c3e1cff7e8",
   "metadata": {},
   "source": [
    "## Import packages <a class=\"anchor\" id=\"first-bullet\"></a>"
   ]
  },
  {
   "cell_type": "markdown",
   "id": "d73dd05b-5b58-4587-a1df-02a9c96d1996",
   "metadata": {},
   "source": [
    "Before import packages, install packages as required <br>\n",
    "Any pypi packages can be installed <br>"
   ]
  },
  {
   "cell_type": "code",
   "execution_count": null,
   "id": "e3744f2b-4d07-4f10-84f0-1daa05cb8573",
   "metadata": {
    "tags": []
   },
   "outputs": [],
   "source": [
    "!pip install s3fs hyperopt cloudpickle mlflow xgboost"
   ]
  },
  {
   "cell_type": "code",
   "execution_count": null,
   "id": "fa3a0921-36d0-4b26-8378-cd5adab57fb8",
   "metadata": {
    "tags": []
   },
   "outputs": [],
   "source": [
    "import boto3\n",
    "import pandas as pd\n",
    "import matplotlib.pyplot as plt\n",
    "import tempfile\n",
    "import os\n",
    "\n",
    "import mlflow\n",
    "\n",
    "from sklearn.model_selection import train_test_split\n",
    "from sklearn.metrics import confusion_matrix, ConfusionMatrixDisplay\n",
    "\n",
    "import mlflow.pyfunc\n",
    "import mlflow.sklearn\n",
    "import numpy as np\n",
    "\n",
    "import sklearn\n",
    "from sklearn.ensemble import RandomForestClassifier\n",
    "from sklearn.metrics import roc_auc_score\n",
    "from sklearn.metrics import accuracy_score\n",
    "\n",
    "from mlflow.models.signature import infer_signature\n",
    "from mlflow.utils.environment import _mlflow_conda_env\n",
    "import cloudpickle\n",
    "import time\n",
    "\n",
    "from hyperopt import fmin, tpe, hp, SparkTrials, Trials, STATUS_OK\n",
    "from hyperopt.pyll import scope\n",
    "from math import exp\n",
    "import mlflow.xgboost\n",
    "import numpy as np\n",
    "import xgboost as xgb"
   ]
  },
  {
   "cell_type": "code",
   "execution_count": null,
   "id": "6b6d8a33-66ff-492d-b85e-0e73587d93f8",
   "metadata": {
    "tags": []
   },
   "outputs": [],
   "source": [
    "import boto3\n",
    "import pandas as pd\n",
    "import matplotlib.pyplot as plt\n",
    "import tempfile\n",
    "import os\n",
    "\n",
    "import mlflow\n",
    "\n",
    "from sklearn.model_selection import train_test_split\n",
    "from sklearn.metrics import confusion_matrix, ConfusionMatrixDisplay\n",
    "\n",
    "import mlflow.pyfunc\n",
    "import mlflow.sklearn\n",
    "import numpy as np\n",
    "\n",
    "import sklearn\n",
    "from sklearn.ensemble import RandomForestClassifier\n",
    "from sklearn.metrics import roc_auc_score\n",
    "from sklearn.metrics import accuracy_score\n",
    "\n",
    "from mlflow.models.signature import infer_signature\n",
    "from mlflow.utils.environment import _mlflow_conda_env\n",
    "import cloudpickle\n",
    "import time\n",
    "\n",
    "from hyperopt import fmin, tpe, hp, SparkTrials, Trials, STATUS_OK\n",
    "from hyperopt.pyll import scope\n",
    "from math import exp\n",
    "import mlflow.xgboost\n",
    "import numpy as np\n",
    "import xgboost as xgb"
   ]
  },
  {
   "cell_type": "markdown",
   "id": "c5ac7837-ae31-4b73-9fd0-e8d8dddbafb6",
   "metadata": {
    "tags": []
   },
   "source": [
    "## Load Data <a class=\"anchor\" id=\"second-bullet\"></a>"
   ]
  },
  {
   "cell_type": "markdown",
   "id": "f0fb050a-b46a-4de4-8fdd-0fe8e3b61d3e",
   "metadata": {},
   "source": [
    "Assumption: the bucket is already created and \"winequality-red.csv\" & \"winequality-white.csv\" are uploaded into the bucket <br>\n",
    "Read data from object store <br>\n",
    "Connect to object store and instantiate a client object using boto3 session:"
   ]
  },
  {
   "cell_type": "code",
   "execution_count": null,
   "id": "f2aa0f94-5b37-4873-9467-44e6703af9c8",
   "metadata": {
    "tags": []
   },
   "outputs": [],
   "source": [
    "AWS_ACCESS_KEY_ID = os.environ['AWS_ACCESS_KEY_ID']\n",
    "AWS_SECRET_ACCESS_KEY = os.environ['AWS_SECRET_ACCESS_KEY']\n",
    "AWS_S3_ENDPOINT = os.environ['AWS_S3_ENDPOINT']\n",
    "AWS_S3_BUCKET = os.environ['AWS_S3_BUCKET']"
   ]
  },
  {
   "cell_type": "code",
   "execution_count": null,
   "id": "47ae3876-523d-47f1-b895-e26bfb65977f",
   "metadata": {
    "tags": []
   },
   "outputs": [],
   "source": [
    "s3conn = boto3.Session(aws_access_key_id=S3ACCESS_KEY,\n",
    "                           aws_secret_access_key=S3SECRET_KEY)\n",
    "s3_client = s3conn.client('s3',endpoint_url = S3ENDPOINT, verify=False)"
   ]
  },
  {
   "cell_type": "code",
   "execution_count": null,
   "id": "4d5bb280-9473-46a0-b575-dfa64f9872cf",
   "metadata": {
    "scrolled": true,
    "tags": []
   },
   "outputs": [],
   "source": [
    "s3_client.list_objects(Bucket='data')"
   ]
  },
  {
   "cell_type": "markdown",
   "id": "7cd65395-3135-45a0-8d7a-227ff2a05840",
   "metadata": {},
   "source": [
    "Using the s3_client, retrieve data from objective store:<br>"
   ]
  },
  {
   "cell_type": "code",
   "execution_count": null,
   "id": "9207c9a6-bcc4-42fc-abf1-ff84c431dbbd",
   "metadata": {
    "tags": []
   },
   "outputs": [],
   "source": [
    "objectname = \"winequality-red.csv\"\n",
    "file_addr = \"data/winequality-red.csv\"\n",
    "response = s3_client.download_file(bucket_name, objectname, file_addr)"
   ]
  },
  {
   "cell_type": "code",
   "execution_count": null,
   "id": "e472d265-819b-4881-9fd4-b2fda3933179",
   "metadata": {
    "tags": []
   },
   "outputs": [],
   "source": [
    "objectname = \"winequality-white.csv\"\n",
    "file_addr = \"data/winequality-white.csv\"\n",
    "response = s3_client.download_file(bucket_name, objectname, file_addr)"
   ]
  },
  {
   "cell_type": "markdown",
   "id": "6e94b018-a5c8-4814-8619-0eece4e5d246",
   "metadata": {},
   "source": [
    "## Exploratory data analysis <a class=\"anchor\" id=\"third-bullet\"></a>"
   ]
  },
  {
   "cell_type": "code",
   "execution_count": null,
   "id": "3131849f-2412-4468-93b2-b21e73f91aa7",
   "metadata": {
    "tags": []
   },
   "outputs": [],
   "source": [
    "import s3fs\n",
    "def read_data(datasrc):\n",
    "    data = pd.read_csv(\n",
    "        \"s3://\" + AWS_S3_BUCKET + \"/\" + datasrc, sep=';',\n",
    "        storage_options={\n",
    "            \"key\": AWS_ACCESS_KEY_ID,\n",
    "            \"secret\": AWS_SECRET_ACCESS_KEY,\n",
    "            \"endpoint_url\": AWS_S3_ENDPOINT,\n",
    "        }\n",
    "    )\n",
    "    return data"
   ]
  },
  {
   "cell_type": "code",
   "execution_count": null,
   "id": "b0ab7588-f839-4325-a4cb-22486498884d",
   "metadata": {
    "tags": []
   },
   "outputs": [],
   "source": [
    "## after concatanation, setting the value of is_red for which is a red wine, which is a white wine - feature"
   ]
  },
  {
   "cell_type": "code",
   "execution_count": null,
   "id": "6af49215-b766-4ca4-a140-6e21f8d7ecb7",
   "metadata": {
    "tags": []
   },
   "outputs": [],
   "source": [
    "def transformdata(red_wine,white_wine):\n",
    "    red_wine['is_red'] = 1\n",
    "    white_wine['is_red'] = 0\n",
    "    data = pd.concat([red_wine, white_wine], axis=0)\n",
    "    data.rename(columns=lambda x: x.replace(' ', '_'), inplace=True)\n",
    "    return data"
   ]
  },
  {
   "cell_type": "code",
   "execution_count": null,
   "id": "fa3e4777-76c2-4687-a8da-6e10c18fe536",
   "metadata": {
    "tags": []
   },
   "outputs": [],
   "source": [
    "white_wine = read_data('winequality-white.csv')\n",
    "red_wine = read_data('winequality-red.csv')\n",
    "data = transformdata(red_wine, white_wine)"
   ]
  },
  {
   "cell_type": "code",
   "execution_count": null,
   "id": "a8620947-ab99-43cb-9a56-128f9ff03fc5",
   "metadata": {
    "tags": []
   },
   "outputs": [],
   "source": [
    "data.head(5)"
   ]
  },
  {
   "cell_type": "markdown",
   "id": "bd056fae-7cf1-4e54-99d9-0f19c014534b",
   "metadata": {},
   "source": [
    "Visualize data"
   ]
  },
  {
   "cell_type": "code",
   "execution_count": null,
   "id": "cad8a920-4a11-4a5f-b60e-6eaf9d882bb2",
   "metadata": {
    "tags": []
   },
   "outputs": [],
   "source": [
    "!pip install seaborn"
   ]
  },
  {
   "cell_type": "code",
   "execution_count": null,
   "id": "b4e1d074-f5fb-41b1-afc7-1150550db01f",
   "metadata": {
    "tags": []
   },
   "outputs": [],
   "source": [
    "import seaborn as sns\n",
    "sns.displot(data.quality, kde=False)"
   ]
  },
  {
   "cell_type": "code",
   "execution_count": null,
   "id": "ee8a4a2e-3f5d-4699-a278-21b2c7c8a17f",
   "metadata": {},
   "outputs": [],
   "source": [
    "## set type boolean"
   ]
  },
  {
   "cell_type": "code",
   "execution_count": null,
   "id": "5c06e500-1871-4c71-816a-b898cb8633d1",
   "metadata": {
    "tags": []
   },
   "outputs": [],
   "source": [
    "def settarget(data):\n",
    "    high_quality = (data.quality >= 7).astype(int)\n",
    "    data.quality = high_quality\n",
    "    return data\n",
    "\n",
    "data = settarget(data)"
   ]
  },
  {
   "cell_type": "code",
   "execution_count": null,
   "id": "661daf61-7b01-4dcd-9f26-30a0dfa3c51a",
   "metadata": {
    "tags": []
   },
   "outputs": [],
   "source": [
    "import seaborn as sns\n",
    "sns.displot(data.quality, kde=False)"
   ]
  },
  {
   "cell_type": "code",
   "execution_count": null,
   "id": "e4fec16b-9490-46a1-9f98-fe917796f219",
   "metadata": {},
   "outputs": [],
   "source": [
    "## median, upper and lower quartile, IQR\n",
    "## histogram for distribution"
   ]
  },
  {
   "cell_type": "code",
   "execution_count": null,
   "id": "2f886882-1fd1-4633-af8b-602dc90d369a",
   "metadata": {
    "tags": []
   },
   "outputs": [],
   "source": [
    "dims = (3, 4)\n",
    "\n",
    "f, axes = plt.subplots(dims[0], dims[1], figsize=(25, 15))\n",
    "axis_i, axis_j = 0, 0\n",
    "for col in data.columns:\n",
    "  if col == 'is_red' or col == 'quality':\n",
    "    continue # Box plots cannot be used on indicator variables\n",
    "  sns.boxplot(x=data['quality'], y=data[col], ax=axes[axis_i, axis_j])\n",
    "  axis_j += 1\n",
    "  if axis_j == dims[1]:\n",
    "    axis_i += 1\n",
    "    axis_j = 0"
   ]
  },
  {
   "cell_type": "markdown",
   "id": "206b8310-cd76-4012-ba6f-f2f621cd3fde",
   "metadata": {},
   "source": [
    "Check missing value"
   ]
  },
  {
   "cell_type": "code",
   "execution_count": null,
   "id": "dee4b83a-a069-4ed8-a9c5-935e45539cd3",
   "metadata": {
    "tags": []
   },
   "outputs": [],
   "source": [
    "## scenarios for missing data - decision for the missing data\n",
    "## if alcohol is not an indicator, delete that record\n",
    "\n",
    "## what are we going to do with the outliers? are they real outliers?"
   ]
  },
  {
   "cell_type": "code",
   "execution_count": null,
   "id": "31857042-ba20-42b5-9739-6a017f6b1951",
   "metadata": {
    "tags": []
   },
   "outputs": [],
   "source": [
    "data.isna().any()"
   ]
  },
  {
   "cell_type": "markdown",
   "id": "6b89fa04-ee75-4782-ac57-b2f5f2f45239",
   "metadata": {},
   "source": [
    "## Prepare dataset for training model <a class=\"anchor\" id=\"forth-bullet\"></a>\n",
    "Split the input data into 3 sets:\n",
    "\n",
    "- Train (60% of the dataset used to train the model)\n",
    "- Validation (20% of the dataset used to tune the hyperparameters)\n",
    "- Test (20% of the dataset used to report the true performance of the model on an unseen dataset)"
   ]
  },
  {
   "cell_type": "code",
   "execution_count": null,
   "id": "757d77d2-d54e-4a2b-8b8d-1eba01ba61ce",
   "metadata": {
    "tags": []
   },
   "outputs": [],
   "source": [
    "def get_trainingdata(data):\n",
    "    X = data.drop([\"quality\"], axis=1)\n",
    "    y = data.quality\n",
    "\n",
    "    # Split out the training data\n",
    "    X_train, X_rem, y_train, y_rem = train_test_split(X, y, train_size=0.6, random_state=123)\n",
    "\n",
    "    # Split the remaining data equally into validation and test\n",
    "    X_val, X_test, y_val, y_test = train_test_split(X_rem, y_rem, test_size=0.5, random_state=123)\n",
    "    return (X_train,X_val,X_test,y_train,y_val,y_test)"
   ]
  },
  {
   "cell_type": "code",
   "execution_count": null,
   "id": "61d6a7b2-974c-4c6c-a31f-3df48760c805",
   "metadata": {
    "tags": []
   },
   "outputs": [],
   "source": [
    "(X_train,X_val,X_test,y_train,y_val,y_test) = get_trainingdata(data)"
   ]
  },
  {
   "cell_type": "markdown",
   "id": "cfe73322-99ac-4e6b-8ed6-c475d418e108",
   "metadata": {
    "tags": []
   },
   "source": [
    "## Build a baseline model (random forest classifier) <a class=\"anchor\" id=\"fifth-bullet\"></a>\n",
    "Build a simple classifier using scikit-learn. Use MLflow to keep track of the model accuracy. You can read about Classification - ROC and AUC here if you want \n",
    "https://developers.google.com/machine-learning/crash-course/classification/roc-and-auc"
   ]
  },
  {
   "cell_type": "markdown",
   "id": "4ea89452-6ec8-43cc-923c-de443450ff35",
   "metadata": {},
   "source": [
    "Enable MLflow autologging"
   ]
  },
  {
   "cell_type": "code",
   "execution_count": null,
   "id": "4b53a514-9eab-491d-9237-80448e4cea20",
   "metadata": {},
   "outputs": [],
   "source": [
    "experiment_name = \"WineQuality\""
   ]
  },
  {
   "cell_type": "code",
   "execution_count": null,
   "id": "6628b383-14a4-493e-9add-e6076adf6ad5",
   "metadata": {},
   "outputs": [],
   "source": [
    "# check if experiment name already exists\n",
    "mlflow.set_tracking_uri(\"http://mlflow:5500\")\n",
    "mlflow.set_experiment(experiment_name)\n",
    "\n",
    "# enable autologging\n",
    "mlflow.sklearn.autolog(log_input_examples=True)"
   ]
  },
  {
   "cell_type": "code",
   "execution_count": null,
   "id": "4f9e8cf7-0458-49d1-9dfa-a3061bbc00d4",
   "metadata": {},
   "outputs": [],
   "source": [
    "def log_featureimportance(model):\n",
    "    tmpdir = tempfile.mkdtemp()\n",
    "    filepath = os.path.join(tmpdir, 'feature_importance.json')\n",
    "    feature_importances = pd.DataFrame(model.feature_importances_, index=X_train.columns.tolist(), columns=['importance'])\n",
    "    feature_importances.sort_values('importance', ascending=False).to_json(filepath)\n",
    "    mlflow.log_artifact(filepath)\n",
    "    return"
   ]
  },
  {
   "cell_type": "markdown",
   "id": "01bdefde-fc6a-4e7d-8c68-649528667fd4",
   "metadata": {},
   "source": [
    "Train random forest"
   ]
  },
  {
   "cell_type": "code",
   "execution_count": null,
   "id": "9f2832df-baa7-4125-8ef3-681517dbe8b0",
   "metadata": {},
   "outputs": [],
   "source": [
    "class SklearnModelWrapper(mlflow.pyfunc.PythonModel):\n",
    "    def __init__(self, model):\n",
    "        self.model = model\n",
    "\n",
    "    def predict(self, context, model_input):\n",
    "        return self.model.predict_proba(model_input)[:,1]\n",
    "\n",
    "def train_randomforest(X_train,y_train,X_test,y_test):\n",
    "\n",
    "    with mlflow.start_run(run_name='untuned_random_forest'):\n",
    "        n_estimators = 10\n",
    "        model = RandomForestClassifier(n_estimators=n_estimators, random_state=np.random.RandomState(123))\n",
    "        model.fit(X_train, y_train)\n",
    "\n",
    "        predictions_test = model.predict_proba(X_test)[:,1]\n",
    "        auc_score = roc_auc_score(y_test, predictions_test)\n",
    "        mlflow.log_param('n_estimators', n_estimators) #specify the interested parameter/metric\n",
    "        mlflow.log_metric('auc', auc_score)\n",
    "        wrappedModel = SklearnModelWrapper(model)\n",
    "\n",
    "        signature = infer_signature(X_train, wrappedModel.predict(None, X_train))\n",
    "\n",
    "        conda_env = _mlflow_conda_env(\n",
    "            additional_conda_deps=None,\n",
    "            additional_pip_deps=[\"cloudpickle=={}\".format(cloudpickle.__version__), \"scikit-learn=={}\".format(sklearn.__version__)],\n",
    "            additional_conda_channels=None,\n",
    "            )\n",
    "        mlflow.pyfunc.log_model(\"random_forest_model\", python_model=wrappedModel, conda_env=conda_env, signature=signature)\n",
    "        log_featureimportance(model)\n",
    "        return model"
   ]
  },
  {
   "cell_type": "code",
   "execution_count": null,
   "id": "d8957943-d0dc-4803-aab5-6c6ceb8ba34d",
   "metadata": {},
   "outputs": [],
   "source": [
    "model = train_randomforest(X_train,y_train,X_test,y_test)"
   ]
  },
  {
   "cell_type": "code",
   "execution_count": null,
   "id": "6c8cdc21-a1df-429b-8be3-3e4d1ea5ff2d",
   "metadata": {},
   "outputs": [],
   "source": [
    "# Sanity-check: This should match the AUC logged by MLflow\n",
    "print(f'AUC: {roc_auc_score(y_test, model.predict_proba(X_test)[:,1])}')"
   ]
  },
  {
   "cell_type": "code",
   "execution_count": null,
   "id": "6eba2f19-7755-412e-bc67-2e586817582c",
   "metadata": {},
   "outputs": [],
   "source": [
    "# Sanity-check: This should match the feature importance logged by MLflow\n",
    "feature_importances = pd.DataFrame(model.feature_importances_, index=X_train.columns.tolist(), columns=['importance'])\n",
    "feature_importances.sort_values('importance', ascending=False)"
   ]
  },
  {
   "cell_type": "markdown",
   "id": "b4206c08-5021-43dd-a11d-e7e7f687ebef",
   "metadata": {},
   "source": [
    "## Experiment with a new model (xgboost) <a class=\"anchor\" id=\"sixth-bullet\"></a>\n",
    "Use the xgboost library to train a more accurate model. Run hyperparameter tuning to train multiple models. As before, the code tracks the performance of each parameter configuration with MLflow."
   ]
  },
  {
   "cell_type": "code",
   "execution_count": null,
   "id": "84cf68d6-86a4-4daa-927b-b4dc53f8cc9d",
   "metadata": {
    "scrolled": true,
    "tags": []
   },
   "outputs": [],
   "source": [
    "search_space = {\n",
    "  'max_depth': scope.int(hp.quniform('max_depth', 50, 100, 10)),\n",
    "  'learning_rate': hp.loguniform('learning_rate', -3, 0),\n",
    "  'reg_alpha': hp.loguniform('reg_alpha', -5, -1),\n",
    "  'reg_lambda': hp.loguniform('reg_lambda', -6, -1),\n",
    "  'min_child_weight': hp.loguniform('min_child_weight', -1, 3),\n",
    "  'objective': 'binary:logistic',\n",
    "  'seed': 123, # Set a seed for deterministic training\n",
    "}\n",
    "\n",
    "def train_model(params):\n",
    "\n",
    "  mlflow.xgboost.autolog()\n",
    "  with mlflow.start_run(nested=True):\n",
    "    train = xgb.DMatrix(data=X_train, label=y_train)\n",
    "    validation = xgb.DMatrix(data=X_val, label=y_val)\n",
    "\n",
    "    booster = xgb.train(params=params, dtrain=train, num_boost_round=100,\\\n",
    "                        evals=[(validation, \"validation\")], early_stopping_rounds=50)\n",
    "    validation_predictions = booster.predict(validation)\n",
    "    auc_score = roc_auc_score(y_val, validation_predictions)\n",
    "    mlflow.log_metric('auc', auc_score) #specify the interested parameter/metric\n",
    "\n",
    "    signature = infer_signature(X_train, booster.predict(train))\n",
    "    mlflow.xgboost.log_model(booster, \"model\", signature=signature)\n",
    "\n",
    "    return {'status': STATUS_OK, 'loss': -1*auc_score, 'booster': booster.attributes()}\n",
    "\n",
    "with mlflow.start_run(run_name='xgboost_models'):\n",
    "  best_params = fmin(\n",
    "    fn=train_model,\n",
    "    space=search_space,\n",
    "    algo=tpe.suggest,\n",
    "    max_evals=10,\n",
    "  )"
   ]
  },
  {
   "cell_type": "code",
   "execution_count": null,
   "id": "12fb65af-5545-4563-a70a-ad62d11e6615",
   "metadata": {},
   "outputs": [],
   "source": [
    "best_run = mlflow.search_runs(order_by=['metrics.auc DESC']).iloc[0]\n",
    "best_run_id = best_run[\"run_id\"]\n",
    "print(f'AUC of Best Run: {best_run[\"metrics.auc\"]}')"
   ]
  },
  {
   "cell_type": "code",
   "execution_count": null,
   "id": "2df971e0-1748-489c-b36d-dd481c211a0d",
   "metadata": {},
   "outputs": [],
   "source": [
    "best_run_id"
   ]
  },
  {
   "cell_type": "markdown",
   "id": "1f57f0bc-ec52-463c-9241-0bf897465b1b",
   "metadata": {
    "tags": []
   },
   "source": [
    "## Predict <a class=\"anchor\" id=\"seventh-bullet\"></a>"
   ]
  },
  {
   "cell_type": "code",
   "execution_count": null,
   "id": "db412034-daab-4942-b3ae-0c5410a3e5a5",
   "metadata": {},
   "outputs": [],
   "source": [
    "# model = mlflow.pyfunc.load_model(f\"models:/TestModelD/production\")\n",
    "model = mlflow.pyfunc.load_model(\"runs:/\" + best_run_id + \"/model\")\n",
    "\n",
    "test_predictions = model.predict(X_test)\n",
    "print(f'AUC: {roc_auc_score(y_test, test_predictions)}')"
   ]
  },
  {
   "cell_type": "code",
   "execution_count": null,
   "id": "b5593581-c563-4c1a-aa80-f10d77f53209",
   "metadata": {},
   "outputs": [],
   "source": [
    "from sklearn.metrics import classification_report\n",
    "\n",
    "class_labels = ['white wine', 'red wine']\n",
    "test_predictions = np.where(test_predictions>0.5, 1, 0)\n",
    "print(classification_report(y_test, test_predictions, target_names=class_labels))"
   ]
  },
  {
   "cell_type": "code",
   "execution_count": null,
   "id": "b0ebe7ec-a7e2-49bc-88bb-2b5ea79f3807",
   "metadata": {},
   "outputs": [],
   "source": [
    "cm = confusion_matrix(y_test, test_predictions)\n",
    "disp = ConfusionMatrixDisplay(confusion_matrix=cm)\n",
    "\n",
    "disp.plot()\n",
    "plt.show()"
   ]
  },
  {
   "cell_type": "code",
   "execution_count": null,
   "id": "d9f40cc8-9a79-4521-9783-6a3aa0b0127a",
   "metadata": {},
   "outputs": [],
   "source": [
    "# register the best model\n",
    "new_model_version = mlflow.register_model(f\"runs:/{best_run_id}/model\", \"WineQuality\")"
   ]
  },
  {
   "cell_type": "code",
   "execution_count": null,
   "id": "d6d78d2a-563d-41de-a2a9-1dbddbdcb3cc",
   "metadata": {},
   "outputs": [],
   "source": [
    "# # Promote the new model version to Production\n",
    "# client.transition_model_version_stage(\n",
    "#   name=\"TestModelD\",\n",
    "#   version=new_model_version.version,\n",
    "#   stage=\"Production\"\n",
    "# )"
   ]
  },
  {
   "cell_type": "code",
   "execution_count": null,
   "id": "d112aed5-fe65-47b3-aff3-899a96010bdf",
   "metadata": {},
   "outputs": [],
   "source": [
    "# # clean up models\n",
    "# from mlflow.tracking import MlflowClient\n",
    "# client = MlflowClient()\n",
    "# client.delete_registered_model(name=\"winequality\")"
   ]
  }
 ],
 "metadata": {
  "kernelspec": {
   "display_name": "Python 3.9",
   "language": "python",
   "name": "python3"
  },
  "language_info": {
   "codemirror_mode": {
    "name": "ipython",
    "version": 3
   },
   "file_extension": ".py",
   "mimetype": "text/x-python",
   "name": "python",
   "nbconvert_exporter": "python",
   "pygments_lexer": "ipython3",
   "version": "3.9.16"
  }
 },
 "nbformat": 4,
 "nbformat_minor": 5
}
